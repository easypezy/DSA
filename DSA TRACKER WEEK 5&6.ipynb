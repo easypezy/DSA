{
 "cells": [
  {
   "cell_type": "code",
   "execution_count": 1,
   "metadata": {},
   "outputs": [],
   "source": [
    "class Node:\n",
    "    def __init__(self,k):\n",
    "        self.k=k\n",
    "        self.next=None\n",
    "        \n",
    "        \n",
    "def printlist(head):\n",
    "    while head!=None:\n",
    "        print(head.k)\n",
    "        head=head.next\n",
    "        \n",
    "#head=None\n",
    "\n",
    "head=Node(10)\n",
    "head.next=Node(30)\n",
    "head.next.next=Node(35)\n",
    "head.next.next.next=Node(89)\n",
    "#head.next.next.next.next=Node(99)\n",
    "#head.next.next.next.next.next=Node(19)\n",
    "\n",
    "node=Node(56)"
   ]
  },
  {
   "cell_type": "markdown",
   "metadata": {},
   "source": [
    "Linked List Insertion : Create a link list of size N according to the given input literals. Each integer input is accompanied by an indicator which can either be 0 or 1. If it is 0, insert the integer in the beginning of the link list. If it is 1, insert the integer at the end of the link list. "
   ]
  },
  {
   "cell_type": "code",
   "execution_count": 2,
   "metadata": {},
   "outputs": [],
   "source": [
    "# function inserts data x in front of list and returns new head \n",
    "def insertAtBegining(head,x):\n",
    "    # code here \n",
    "    temp=Node(x)\n",
    "    if head!=None:\n",
    "        temp.next=head\n",
    "        head=temp\n",
    "    else:\n",
    "        head=temp\n",
    "    return head\n",
    "# function appends data x at the end of list and returns new head\n",
    "def insertAtEnd(head,x):\n",
    "    # code here\n",
    "    temp=Node(x)\n",
    "    if head==None:\n",
    "        head=temp\n",
    "    else:\n",
    "        curr=head\n",
    "        while(curr.next!=None):\n",
    "            curr=curr.next\n",
    "        curr.next=temp\n",
    "    return head"
   ]
  },
  {
   "cell_type": "markdown",
   "metadata": {},
   "source": [
    "Insert in Middle of Linked List : Given a linked list of size N and a key. The task is to insert the key in the middle of the linked list."
   ]
  },
  {
   "cell_type": "code",
   "execution_count": 7,
   "metadata": {},
   "outputs": [],
   "source": [
    "def insertInMid(head,node):\n",
    "    #code here\n",
    "    idx=1\n",
    "    curr=head\n",
    "    while(head!=None):\n",
    "        idx+=1\n",
    "        head=head.next      \n",
    "    count=idx//2\n",
    "    for i in range(count-1):\n",
    "        curr=curr.next\n",
    "    node.next=curr.next\n",
    "    curr.next=node\n",
    "    return curr "
   ]
  },
  {
   "cell_type": "markdown",
   "metadata": {},
   "source": [
    "Linked List Insertion At Position : You are given a linked list of size n. You need to insert an element data just after the given position pos.The position of first element is 1. If the given position is greater than n, then don't insert anything as it is not possible."
   ]
  },
  {
   "cell_type": "code",
   "execution_count": 8,
   "metadata": {},
   "outputs": [],
   "source": [
    "def insertAtPosition(head,pos,data):\n",
    "    #code here\n",
    "    curr=head\n",
    "    data=Node(data)\n",
    "    if head==None:\n",
    "        head=data\n",
    "        return head\n",
    "    if pos==1:\n",
    "        data.next=head.next\n",
    "        head.next=data\n",
    "        return head \n",
    "    for i in range(pos-1):\n",
    "        curr=curr.next\n",
    "        if curr==None:\n",
    "            return head\n",
    "    data.next=curr.next\n",
    "    curr.next=data\n",
    "    return head"
   ]
  },
  {
   "cell_type": "markdown",
   "metadata": {},
   "source": [
    "Insert In Sorted Linked List : Given a sorted (non decreasing) linked list of size n, you have to insert the given data at appropriate position in the linked list."
   ]
  },
  {
   "cell_type": "code",
   "execution_count": 9,
   "metadata": {},
   "outputs": [],
   "source": [
    "def  insertInSorted(head,data):\n",
    "    #code here\n",
    "    temp=head\n",
    "    data=Node(data)\n",
    "    if head==None:\n",
    "        head=data\n",
    "    \n",
    "    elif data.data<head.data:\n",
    "        data.next=head\n",
    "        head=data\n",
    "        \n",
    "    else:\n",
    "        while temp.next!=None and temp.next.data<data.data:\n",
    "            temp=temp.next\n",
    "        data.next=temp.next\n",
    "        temp.next=data\n",
    "    return head"
   ]
  },
  {
   "cell_type": "markdown",
   "metadata": {},
   "source": [
    "Delete Tail of Linked List : Given a linked list of size n, you have to delete the tail (last element) in the linked list."
   ]
  },
  {
   "cell_type": "code",
   "execution_count": 10,
   "metadata": {},
   "outputs": [],
   "source": [
    "def deleteTail(head):\n",
    "    #code here\n",
    "    if head==None:\n",
    "        return None \n",
    "    if head.next==None:\n",
    "        return None\n",
    "    curr=head\n",
    "    while(curr.next.next!=None):\n",
    "        curr=curr.next\n",
    "    curr.next=None\n",
    "    return head"
   ]
  },
  {
   "cell_type": "markdown",
   "metadata": {},
   "source": [
    "Delete Head of Linked List : Given a linked list of size n, you have to delete the head of the linked list and return the new head."
   ]
  },
  {
   "cell_type": "code",
   "execution_count": 11,
   "metadata": {},
   "outputs": [],
   "source": [
    "def deleteHead(head):\n",
    "    #code here\n",
    "    if head==None:\n",
    "        return None\n",
    "    else:\n",
    "        temp=head\n",
    "        head=temp.next\n",
    "        temp.next=None\n",
    "        \n",
    "    return head"
   ]
  },
  {
   "cell_type": "markdown",
   "metadata": {},
   "source": [
    "Reverse a linked list : Given a linked list of N nodes. The task is to reverse this list."
   ]
  },
  {
   "cell_type": "code",
   "execution_count": 12,
   "metadata": {},
   "outputs": [],
   "source": [
    "def reverseList(head):\n",
    "    # Code here\n",
    "    curr=head\n",
    "    prev=None\n",
    "    \n",
    "    while (curr!=None):\n",
    "        nxt=curr.next\n",
    "        curr.next=prev\n",
    "        prev=curr\n",
    "        curr=nxt\n",
    "    return prev"
   ]
  },
  {
   "cell_type": "markdown",
   "metadata": {},
   "source": [
    "Linked List Delete at Position : Given a linked list of size n, you have to delete the node at position pos of the linked list and return the new head. The position of initial node is 1."
   ]
  },
  {
   "cell_type": "code",
   "execution_count": 1,
   "metadata": {},
   "outputs": [],
   "source": [
    "def deleteAtPosition(head, pos):\n",
    "    #code here\n",
    "    curr=head\n",
    "    \n",
    "    if head==None:\n",
    "        return None \n",
    "    \n",
    "    if pos==1:\n",
    "        return head.next\n",
    "    \n",
    "    for i in range(pos-2):\n",
    "        curr=curr.next\n",
    "    curr.next=curr.next.next\n",
    "    return head"
   ]
  },
  {
   "cell_type": "markdown",
   "metadata": {},
   "source": [
    "Is Linked List Sorted :Given a linked list of size n, you have to find whether the given linked list is sorted or not.\n",
    "The sorting can either be non-increasing or non-decreasing."
   ]
  },
  {
   "cell_type": "code",
   "execution_count": 6,
   "metadata": {},
   "outputs": [],
   "source": [
    "def isSorted(head):\n",
    "    #code here\n",
    "    if (head==None and head.next==None):\n",
    "        return 1\n",
    "        \n",
    "    curr=head\n",
    "    nxt=head.next   \n",
    "    asc=1\n",
    "    desc=1\n",
    "    while(nxt!=None):\n",
    "        if nxt.data<curr.data:\n",
    "            asc=0\n",
    "        curr=curr.next\n",
    "        nxt=nxt.next\n",
    "        \n",
    "    curr=head\n",
    "    nxt=head.next   \n",
    "    while(nxt!=None):\n",
    "        if nxt.data>curr.data:\n",
    "            desc=0\n",
    "        curr=curr.next\n",
    "        nxt=nxt.next\n",
    "        \n",
    "    if(asc==1 or desc==1):\n",
    "        return 1 \n",
    "    else:\n",
    "        return 0"
   ]
  },
  {
   "cell_type": "markdown",
   "metadata": {},
   "source": [
    "Join Two Linked Lists : Given two linked lists of size n1 and n2 respectively, you have to join the head of second list to the tail of first so that we can traverse both the lists using head of 1st list."
   ]
  },
  {
   "cell_type": "code",
   "execution_count": 2,
   "metadata": {},
   "outputs": [],
   "source": [
    "def joinTheLists(head1, head2):\n",
    "    #code here\n",
    "    temp=head1\n",
    "    while(temp.next!=None):\n",
    "        temp=temp.next\n",
    "    temp.next=head2\n",
    "    return head1"
   ]
  },
  {
   "cell_type": "markdown",
   "metadata": {},
   "source": [
    "Remove duplicate element from sorted Linked List : Given a singly linked list consisting of N nodes. The task is to remove duplicates (nodes with duplicate values) from the given list (if exists)."
   ]
  },
  {
   "cell_type": "code",
   "execution_count": 3,
   "metadata": {},
   "outputs": [],
   "source": [
    "def removeDuplicates(head):\n",
    "    #code here\n",
    "    curr=head\n",
    "    while(curr!=None and curr.next!=None):\n",
    "        if curr.data == curr.next.data:\n",
    "            temp=curr.next.next\n",
    "            curr.next=temp\n",
    "        else:\n",
    "            curr=curr.next"
   ]
  },
  {
   "cell_type": "markdown",
   "metadata": {},
   "source": [
    "Identical Linked Lists : Given two Singly Linked List of N and M nodes respectively. The task is to check whether two linked lists are identical or not."
   ]
  },
  {
   "cell_type": "code",
   "execution_count": 5,
   "metadata": {},
   "outputs": [],
   "source": [
    "def areIdentical(head1, head2):\n",
    "    # Code here\n",
    "  \n",
    "    while(head1!=None and head2!=None):\n",
    "        if (head1.data == head2.data):\n",
    "            head1=head1.next\n",
    "            head2=head2.next\n",
    "            #print(head1.val,head2.val)\n",
    "            \n",
    "        else:\n",
    "            break\n",
    "            \n",
    "    if head1==None and head2==None:\n",
    "        return 1\n",
    "    else:\n",
    "        return 0 "
   ]
  },
  {
   "cell_type": "markdown",
   "metadata": {},
   "source": [
    "Nth node from end of linked list : Given a linked list consisting of L nodes and given a number N. The task is to find the Nth node from the end of the linked list."
   ]
  },
  {
   "cell_type": "code",
   "execution_count": 7,
   "metadata": {},
   "outputs": [],
   "source": [
    "def getNthFromLast(head,n):\n",
    "    #code here\n",
    "    curr=head\n",
    "    count=0\n",
    "    while head!=None:\n",
    "        head=head.next\n",
    "        count+=1\n",
    "    #print(count)\n",
    "    \n",
    "    if n>count:\n",
    "        return -1\n",
    "    \n",
    "    for i in range(count-n):\n",
    "        curr=curr.next\n",
    "    return (curr.data)"
   ]
  },
  {
   "cell_type": "code",
   "execution_count": 8,
   "metadata": {},
   "outputs": [],
   "source": [
    "def getNthFromLast(head,n):\n",
    "    p1=head\n",
    "    p2=head\n",
    "    for i in range(n):\n",
    "        if p1==None:\n",
    "            return None\n",
    "        p1=p1.next\n",
    "    #print(p1.next)\n",
    "        \n",
    "            \n",
    "     \n",
    "    while(p1!=None):\n",
    "        p1=p1.next\n",
    "        p2=p2.next\n",
    "    print(p2.k)"
   ]
  }
 ],
 "metadata": {
  "kernelspec": {
   "display_name": "Python 3",
   "language": "python",
   "name": "python3"
  },
  "language_info": {
   "codemirror_mode": {
    "name": "ipython",
    "version": 3
   },
   "file_extension": ".py",
   "mimetype": "text/x-python",
   "name": "python",
   "nbconvert_exporter": "python",
   "pygments_lexer": "ipython3",
   "version": "3.8.3"
  }
 },
 "nbformat": 4,
 "nbformat_minor": 4
}
