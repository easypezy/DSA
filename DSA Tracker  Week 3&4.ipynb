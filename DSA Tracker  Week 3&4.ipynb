{
 "cells": [
  {
   "cell_type": "markdown",
   "metadata": {},
   "source": [
    "Count Distinct Vowels in String : "
   ]
  },
  {
   "cell_type": "code",
   "execution_count": 1,
   "metadata": {},
   "outputs": [],
   "source": [
    "def countVowels(s):\n",
    "    st=set(['a','e','i','o','u','A','E','I','O','U'])\n",
    "    \n",
    "    c=0\n",
    "    vwl=set()\n",
    "    \n",
    "    for e in s:\n",
    "        if e in st:\n",
    "            if e not in vwl:\n",
    "                vwl.add(e)\n",
    "                c+=1\n",
    "    return c"
   ]
  },
  {
   "cell_type": "code",
   "execution_count": null,
   "metadata": {},
   "outputs": [],
   "source": []
  },
  {
   "cell_type": "markdown",
   "metadata": {},
   "source": [
    "Reverse a String"
   ]
  },
  {
   "cell_type": "code",
   "execution_count": 2,
   "metadata": {},
   "outputs": [],
   "source": [
    "def reverseWord(s):\n",
    "    #your code here\n",
    "    res=''\n",
    "    for i in s:\n",
    "        res=i+res\n",
    "    return res"
   ]
  },
  {
   "cell_type": "code",
   "execution_count": null,
   "metadata": {},
   "outputs": [],
   "source": []
  },
  {
   "cell_type": "markdown",
   "metadata": {},
   "source": [
    "Anagram"
   ]
  },
  {
   "cell_type": "code",
   "execution_count": 3,
   "metadata": {},
   "outputs": [],
   "source": [
    "def isAnagram(a,b):\n",
    "    #code here\n",
    "    if len(a)!=len(b):\n",
    "        return False\n",
    "    \n",
    "    count=[0]*256\n",
    "    \n",
    "    for i in range(len(a)):\n",
    "        count[ord(a[i])]+=1\n",
    "        count[ord(b[i])]-=1\n",
    "        \n",
    "    for x in count:\n",
    "        if x!=0:\n",
    "            return False\n",
    "    return True"
   ]
  },
  {
   "cell_type": "code",
   "execution_count": null,
   "metadata": {},
   "outputs": [],
   "source": []
  },
  {
   "cell_type": "markdown",
   "metadata": {},
   "source": [
    "Panagram Checking"
   ]
  },
  {
   "cell_type": "code",
   "execution_count": 4,
   "metadata": {},
   "outputs": [],
   "source": [
    "def isPanagram(s):\n",
    "    lst=[0]*52\n",
    "        \n",
    "    for c in s:\n",
    "        if not c==\"\":\n",
    "            lst[ord(c)-ord('a')]=1\n",
    "            #lst[ord(c)-ord('A')]=1\n",
    "            \n",
    "            \n",
    "    for i in lst:\n",
    "        if lst[i]!=1:\n",
    "            return 0\n",
    "    return 1"
   ]
  },
  {
   "cell_type": "code",
   "execution_count": null,
   "metadata": {},
   "outputs": [],
   "source": []
  },
  {
   "cell_type": "markdown",
   "metadata": {},
   "source": [
    "String Validation"
   ]
  },
  {
   "cell_type": "code",
   "execution_count": 5,
   "metadata": {},
   "outputs": [],
   "source": [
    "def validate(s):\n",
    "    #your code here\n",
    "    a,b,c,d = 0,0,0,0\n",
    "    special = '!@#$%^&*()-+?_=,<>/'\n",
    "    if(len(s)>=10):\n",
    "        for i in s:\n",
    "            if i.isnumeric():\n",
    "                a=a+1\n",
    "            elif(i.islower()):\n",
    "                b=b+1\n",
    "            elif(i.isupper()):\n",
    "                c=c+1\n",
    "            elif(i in special):\n",
    "                d=d+1\n",
    "                \n",
    "    if a!=0 and b!=0 and c!=0 and d!=0:\n",
    "        return 1\n",
    "    else : \n",
    "        return 0\n",
    "        "
   ]
  },
  {
   "cell_type": "code",
   "execution_count": null,
   "metadata": {},
   "outputs": [],
   "source": []
  },
  {
   "cell_type": "markdown",
   "metadata": {},
   "source": [
    "### LinkedList"
   ]
  },
  {
   "cell_type": "markdown",
   "metadata": {},
   "source": [
    "Sum The Nodes of Linked List "
   ]
  },
  {
   "cell_type": "code",
   "execution_count": 1,
   "metadata": {},
   "outputs": [],
   "source": [
    "class Node:\n",
    "    def __init__(self, data):\n",
    "        self.data = data\n",
    "        self.next = None\n",
    "\n",
    "\n",
    "def sumOfElements(head):\n",
    "    #code here\n",
    "    res=0\n",
    "    if head==None:\n",
    "        return None\n",
    "    while(head!=None):\n",
    "        res=res+head.data\n",
    "        head=head.next\n",
    "    return res"
   ]
  },
  {
   "cell_type": "code",
   "execution_count": null,
   "metadata": {},
   "outputs": [],
   "source": []
  },
  {
   "cell_type": "markdown",
   "metadata": {},
   "source": [
    "Display Linked List"
   ]
  },
  {
   "cell_type": "code",
   "execution_count": 2,
   "metadata": {},
   "outputs": [],
   "source": [
    "class Node:\n",
    "    def __init__(self,data):\n",
    "        self.data=data\n",
    "        self.next=None\n",
    "\n",
    "def displayList(head):\n",
    "    #code here\n",
    "    curr=head\n",
    "    while(curr!=None):\n",
    "        print(curr.data,end='\\n')\n",
    "        curr=curr.next"
   ]
  },
  {
   "cell_type": "code",
   "execution_count": null,
   "metadata": {},
   "outputs": [],
   "source": []
  },
  {
   "cell_type": "markdown",
   "metadata": {},
   "source": [
    "Count nodes of linked list"
   ]
  },
  {
   "cell_type": "code",
   "execution_count": 3,
   "metadata": {},
   "outputs": [],
   "source": [
    "class Node:\n",
    "    def __init__(self,data):\n",
    "        self.data=data\n",
    "        self.next=None\n",
    "        \n",
    "def getCount(head_node):\n",
    "    #code here\n",
    "    idx=1\n",
    "    while(head_node.next!=None):\n",
    "        head_node=head_node.next\n",
    "        idx+=1\n",
    "    return idx"
   ]
  },
  {
   "cell_type": "code",
   "execution_count": null,
   "metadata": {},
   "outputs": [],
   "source": []
  },
  {
   "cell_type": "markdown",
   "metadata": {},
   "source": [
    "Maximum And Minimum In Linked List "
   ]
  },
  {
   "cell_type": "code",
   "execution_count": 4,
   "metadata": {},
   "outputs": [],
   "source": [
    "def maximum(head):\n",
    "    mx=-10000\n",
    "    while head!=None:\n",
    "        if head.k>mx:\n",
    "            mx=head.k\n",
    "        head=head.next\n",
    "\n",
    "    return mx\n",
    "\n",
    "\n",
    "def minimum(head):\n",
    "    mn=100000\n",
    "    while head!=None:\n",
    "        if head.k < mn:\n",
    "            mn=head.k\n",
    "        head=head.next   \n",
    "    \n",
    "    return mn"
   ]
  },
  {
   "cell_type": "code",
   "execution_count": null,
   "metadata": {},
   "outputs": [],
   "source": []
  },
  {
   "cell_type": "markdown",
   "metadata": {},
   "source": [
    "Search In Linked List "
   ]
  },
  {
   "cell_type": "code",
   "execution_count": 5,
   "metadata": {},
   "outputs": [],
   "source": [
    "def searchLinkedList(head,x):\n",
    "    #code here\n",
    "    idx=1\n",
    "    curr=head\n",
    "    while(curr!=None):\n",
    "        if curr.data==x:\n",
    "            return 1\n",
    "        else:\n",
    "            idx+=1\n",
    "            curr=curr.next\n",
    "    return 0"
   ]
  },
  {
   "cell_type": "code",
   "execution_count": null,
   "metadata": {},
   "outputs": [],
   "source": []
  },
  {
   "cell_type": "code",
   "execution_count": null,
   "metadata": {},
   "outputs": [],
   "source": []
  }
 ],
 "metadata": {
  "kernelspec": {
   "display_name": "Python 3",
   "language": "python",
   "name": "python3"
  },
  "language_info": {
   "codemirror_mode": {
    "name": "ipython",
    "version": 3
   },
   "file_extension": ".py",
   "mimetype": "text/x-python",
   "name": "python",
   "nbconvert_exporter": "python",
   "pygments_lexer": "ipython3",
   "version": "3.8.3"
  }
 },
 "nbformat": 4,
 "nbformat_minor": 4
}
