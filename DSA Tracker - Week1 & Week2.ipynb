{
 "cells": [
  {
   "cell_type": "markdown",
   "metadata": {},
   "source": [
    "# 04-01-2021 to 16-01-2021 : \n",
    "\n",
    "###### 2 que daily.\n",
    "       "
   ]
  },
  {
   "cell_type": "markdown",
   "metadata": {},
   "source": [
    "1. Array insert at end : You are given an array arr. The size of the array is given by sizeOfArray. You need to insert an element at the end."
   ]
  },
  {
   "cell_type": "code",
   "execution_count": 1,
   "metadata": {},
   "outputs": [],
   "source": [
    "def insertAtEnd(arr,sizeOfArray,element):\n",
    "    ##Your code here\n",
    "   \n",
    "    if sizeOfArray>len(arr):\n",
    "        arr.append(element)\n",
    "        \n",
    "    else:\n",
    "        print('notpossible')\n",
    "    \n",
    "    \n",
    "arr=[1,2,3,4,5]   \n",
    "sizeOfArray=6\n",
    "element=80"
   ]
  },
  {
   "cell_type": "markdown",
   "metadata": {},
   "source": [
    "2. Array insert at index  : You are given an array arr(0-based index). The size of the array is given by sizeOfArray. You need to insert an element at given index and print the modified array."
   ]
  },
  {
   "cell_type": "code",
   "execution_count": 2,
   "metadata": {},
   "outputs": [],
   "source": [
    "def insertAtIndex( arr, sizeOfArray, index, element):\n",
    "    while index<sizeOfArray:\n",
    "        for i in arr:\n",
    "            arr.insert(index,element)\n",
    "            return arr"
   ]
  },
  {
   "cell_type": "markdown",
   "metadata": {},
   "source": [
    "3. Get Element At Index :You are given an array arr(0-based indexing). The size of the array is given by n. You need to get the element at index i and return it. If no element exists at i then return -1."
   ]
  },
  {
   "cell_type": "code",
   "execution_count": 3,
   "metadata": {},
   "outputs": [
    {
     "data": {
      "text/plain": [
       "67"
      ]
     },
     "execution_count": 3,
     "metadata": {},
     "output_type": "execute_result"
    }
   ],
   "source": [
    "def getByIndex(arr,n,idx):\n",
    "    if idx>=n:\n",
    "        return -1\n",
    "    else:\n",
    "        return arr[idx]\n",
    "    \n",
    "arr=[90,45,67,89]\n",
    "n=6\n",
    "idx=2\n",
    "getByIndex(arr,n,idx)"
   ]
  },
  {
   "cell_type": "markdown",
   "metadata": {},
   "source": [
    "4. Array Update At Index :You are given an array arr(0-based indexing). The size of the array is given by n. You need to update an element at the given index. The arr[i] of the array is initially set to i+1."
   ]
  },
  {
   "cell_type": "code",
   "execution_count": 4,
   "metadata": {},
   "outputs": [],
   "source": [
    "def updateArray(arr,n,idx,element):\n",
    "    if idx in range(len(arr)):\n",
    "        arr[idx]=element\n",
    "        return arr\n",
    "    else:\n",
    "        return None"
   ]
  },
  {
   "cell_type": "markdown",
   "metadata": {},
   "source": [
    "5. Array Delete And Shift: You are given an array arr(0-based indexing). The size of the array is given by n. You need to delete an element at given index and print the modified array. The arr[i] of array is initially set to i+1.\n",
    "."
   ]
  },
  {
   "cell_type": "code",
   "execution_count": 6,
   "metadata": {},
   "outputs": [
    {
     "data": {
      "text/plain": [
       "[2, 3, 5, 6, 0]"
      ]
     },
     "execution_count": 6,
     "metadata": {},
     "output_type": "execute_result"
    }
   ],
   "source": [
    "def deleteFromArray(arr,n,idx):\n",
    "    #code here\n",
    "    if idx>=n:\n",
    "        return -1\n",
    "    else:\n",
    "        if idx in range(len(arr)):\n",
    "            del arr[idx]\n",
    "            arr.append(0)\n",
    "            return arr\n",
    "        \n",
    "n=6\n",
    "arr=[2,3,4,5,6,]\n",
    "idx=2\n",
    "deleteFromArray(arr,n,idx)"
   ]
  },
  {
   "cell_type": "markdown",
   "metadata": {},
   "source": [
    "6. Count Smaller Than X  : Given an unsorted array arr[] of size N containing non-negative integers. You will also be given an integer X, the task is to count the number of elements which are strictly smaller than X. The given integer may or not be present in the array given."
   ]
  },
  {
   "cell_type": "code",
   "execution_count": 7,
   "metadata": {},
   "outputs": [],
   "source": [
    "def smallerThanX(arr,n,x):\n",
    "    \n",
    "    ans=0\n",
    "    for e in arr:\n",
    "        if e<x:\n",
    "            ans+=1\n",
    "    return ans"
   ]
  },
  {
   "cell_type": "markdown",
   "metadata": {},
   "source": [
    "7. Count Elements Greater Than X : Given an unsorted array arr[] of size N containing non-negative integers. You will also be given an integer X, the task is to count the number of elements which are strictly greater than X. The given integer may or not be present in the array given."
   ]
  },
  {
   "cell_type": "code",
   "execution_count": 8,
   "metadata": {},
   "outputs": [],
   "source": [
    "def greaterThanX(arr,n,x):\n",
    "    \n",
    "    \n",
    "    ans=0\n",
    "    for e in arr:\n",
    "        if e>x:\n",
    "            ans+=1\n",
    "    return ans"
   ]
  },
  {
   "cell_type": "markdown",
   "metadata": {},
   "source": [
    "8. Find Immediate Smaller Than X : Given an array arr[] of size N containing positive integers and an integer X, find the element in the array which is smaller than X and closest to it."
   ]
  },
  {
   "cell_type": "code",
   "execution_count": 11,
   "metadata": {},
   "outputs": [
    {
     "data": {
      "text/plain": [
       "48"
      ]
     },
     "execution_count": 11,
     "metadata": {},
     "output_type": "execute_result"
    }
   ],
   "source": [
    "def immediateSmaller(arr,n,x):\n",
    "    ans=-1\n",
    "    diff = 10000000\n",
    "    for e in arr:\n",
    "        if e<x and x-e < diff:\n",
    "            ans=e\n",
    "            diff = x-e\n",
    "    return ans\n",
    "\n",
    "arr=[90,89,46,48]\n",
    "n=4\n",
    "x=56\n",
    "immediateSmaller(arr,n,x)"
   ]
  },
  {
   "cell_type": "markdown",
   "metadata": {},
   "source": [
    "** Had to look at solution "
   ]
  },
  {
   "cell_type": "markdown",
   "metadata": {},
   "source": [
    "9. Find Immediate Greater Than X : Given an array arr[] of size N containing positive integers and an integer X. You need to find the value in the array which is greater than X and closest to it. ( if no such value exists the answer should be -1)"
   ]
  },
  {
   "cell_type": "code",
   "execution_count": 13,
   "metadata": {},
   "outputs": [],
   "source": [
    "def immediateGreater(arr,n,x):\n",
    "    #return required ans\n",
    "    ans=-1\n",
    "    diff = 10000000\n",
    "    for e in arr:\n",
    "        if e>x and e-x < diff:\n",
    "            ans=e\n",
    "            diff = e-x\n",
    "    return ans"
   ]
  },
  {
   "cell_type": "markdown",
   "metadata": {},
   "source": [
    "10. Who has the majority? :Given an array arr[] of size N and two elements x and y, use counter variables to find which element appears most in the array, x or y. If both elements have the same frequency, then return the smaller element."
   ]
  },
  {
   "cell_type": "code",
   "execution_count": 6,
   "metadata": {},
   "outputs": [],
   "source": [
    "def majorityWins(arr, n,  x,y):\n",
    "    # code here\n",
    "    if (arr.count(x)==arr.count(y)):\n",
    "        if x-y<0:\n",
    "            return x\n",
    "        else:\n",
    "            return y\n",
    "    else:\n",
    "        if (arr.count(x)>arr.count(y)):\n",
    "            return x\n",
    "        else:\n",
    "            return y"
   ]
  },
  {
   "cell_type": "markdown",
   "metadata": {},
   "source": [
    "11. Maximum and Minimum In Array :Given an array arr of size n, find maximum and minimum elements in the array."
   ]
  },
  {
   "cell_type": "code",
   "execution_count": 1,
   "metadata": {},
   "outputs": [],
   "source": [
    "def maximumElement(arr,n):\n",
    "     for x in arr:\n",
    "        for y in arr:\n",
    "            if y>x:\n",
    "                break\n",
    "        else:\n",
    "            return x \n",
    "\n",
    "\n",
    "\n",
    "def minimumElement(arr,n):\n",
    "     for x in arr:\n",
    "        for y in arr:\n",
    "            if y<x:\n",
    "                break\n",
    "        else:\n",
    "            return x "
   ]
  },
  {
   "cell_type": "markdown",
   "metadata": {},
   "source": [
    "12. Reverse The Array :Given an array arr of size n. You need to reverse the array."
   ]
  },
  {
   "cell_type": "code",
   "execution_count": 3,
   "metadata": {},
   "outputs": [],
   "source": [
    "def reverseArray(arr,n):\n",
    "    s=0\n",
    "    e=len(arr)-1    \n",
    "    while s<e:\n",
    "        temp=arr[s]\n",
    "        arr[s]=arr[e]\n",
    "        arr[e]=temp\n",
    "        s=s+1\n",
    "        e=e-1\n",
    "    return arr"
   ]
  },
  {
   "cell_type": "markdown",
   "metadata": {},
   "source": [
    "13. Rotate Array:Given an unsorted array arr[] of size N, rotate it by D elements in the counter-clockwise direction. "
   ]
  },
  {
   "cell_type": "code",
   "execution_count": 14,
   "metadata": {},
   "outputs": [
    {
     "name": "stdout",
     "output_type": "stream",
     "text": [
      "[3, 4, 5, 1, 2]\n"
     ]
    }
   ],
   "source": [
    "def rotateArr(A,D,N):\n",
    "    \n",
    "    # reverse array from 0 to D\n",
    "    A[0:D]=reversed(A[0:D])\n",
    "    \n",
    "    # reverse array from D to N\n",
    "    A[D:N]=reversed(A[D:N])\n",
    "    \n",
    "    # reverse whole array\n",
    "    A[0:N]=reversed(A[0:N])\n",
    "    \n",
    "A=[1,2,3,4,5]\n",
    "D=2\n",
    "N=len(A)\n",
    "rotateArr(A,D,N)\n",
    "print(A)"
   ]
  },
  {
   "cell_type": "markdown",
   "metadata": {},
   "source": [
    "14. Sum of Array Elements: Given an integer array arr of size n, you need to sum the elements of arr."
   ]
  },
  {
   "cell_type": "code",
   "execution_count": 2,
   "metadata": {},
   "outputs": [],
   "source": [
    "def sumElement(arr,n):\n",
    "    #code here\n",
    "    sumx=0\n",
    "    for x in arr:\n",
    "        sumx=sumx+x\n",
    "    return sumx\n"
   ]
  },
  {
   "cell_type": "markdown",
   "metadata": {},
   "source": [
    "15. Mean And Median of Array "
   ]
  },
  {
   "cell_type": "code",
   "execution_count": 7,
   "metadata": {},
   "outputs": [],
   "source": [
    "def median(A,N):\n",
    "    \n",
    "    A.sort()\n",
    "    \n",
    "    ##Your code here\n",
    "    #If median is fraction then convert the median to integer and return\n",
    "    if (N%2==0):\n",
    "        median1=A[N//2]\n",
    "        median2=A[N//2 -1]\n",
    "        median=(median1+median2)//2\n",
    "    else:\n",
    "        median=A[N//2]\n",
    "    \n",
    "    return median\n",
    "    \n",
    "\n",
    "def mean(A,N):\n",
    "    ##Your code here\n",
    "    res=0\n",
    "    for i in A:\n",
    "        res=res+i \n",
    "    return res//N"
   ]
  },
  {
   "cell_type": "markdown",
   "metadata": {},
   "source": [
    "16. Is Array Sorted"
   ]
  },
  {
   "cell_type": "markdown",
   "metadata": {},
   "source": [
    "##### help taken from Ali"
   ]
  },
  {
   "cell_type": "code",
   "execution_count": 5,
   "metadata": {},
   "outputs": [],
   "source": [
    "def isSorted(arr,n):\n",
    "    #code here\n",
    "    i=1\n",
    "    incFlag=False\n",
    "    #decFlag=False\n",
    "    if (len(arr)<=2):\n",
    "        return 1\n",
    "        \n",
    "    while (i<len(arr)) and (arr[i]==arr[i-1]):\n",
    "        \n",
    "        i+=1\n",
    "        \n",
    "        \n",
    "    if (i<len(arr)) and (arr[i]>arr[i-1]):\n",
    "        incFlag=True\n",
    "        \n",
    "    while i<len(arr):\n",
    "        if (incFlag):\n",
    "            if arr[i]>=arr[i-1]:\n",
    "                i=i+1\n",
    "            else:\n",
    "                return 0\n",
    "        else:\n",
    "            if arr[i]<=arr[i-1]:\n",
    "                i=i+1\n",
    "            else:\n",
    "                return 0\n",
    "                \n",
    "    return 1"
   ]
  },
  {
   "cell_type": "markdown",
   "metadata": {},
   "source": [
    "### Strings"
   ]
  },
  {
   "cell_type": "markdown",
   "metadata": {},
   "source": [
    "1. Length of String:You are given a string s. You need to find the length of the string"
   ]
  },
  {
   "cell_type": "code",
   "execution_count": 2,
   "metadata": {},
   "outputs": [
    {
     "name": "stdout",
     "output_type": "stream",
     "text": [
      "Enter the stringhulksmash\n"
     ]
    },
    {
     "data": {
      "text/plain": [
       "9"
      ]
     },
     "execution_count": 2,
     "metadata": {},
     "output_type": "execute_result"
    }
   ],
   "source": [
    "def lengthString(s):\n",
    "    #code here\n",
    "    res=len(s)\n",
    "    return res\n",
    "\n",
    "s=input('Enter the string')\n",
    "lengthString(s)"
   ]
  },
  {
   "cell_type": "markdown",
   "metadata": {},
   "source": [
    "2. Vowels in String :You are given a string s. You need to count the total vowels in the string. The string s contains lowercase letters only."
   ]
  },
  {
   "cell_type": "code",
   "execution_count": 3,
   "metadata": {},
   "outputs": [
    {
     "name": "stdout",
     "output_type": "stream",
     "text": [
      "Enter the strings:avengers assemble\n"
     ]
    },
    {
     "data": {
      "text/plain": [
       "6"
      ]
     },
     "execution_count": 3,
     "metadata": {},
     "output_type": "execute_result"
    }
   ],
   "source": [
    "def countVowels(s):\n",
    "    #code here\n",
    "    cnt=0\n",
    "    for i in range(len(s)):\n",
    "        if (s[i]=='a' or s[i]=='e' or s[i]=='o' or s[i]=='i' or s[i]=='u'):\n",
    "            cnt=cnt+1\n",
    "            \n",
    "    return cnt \n",
    "\n",
    "s=input('Enter the strings:')\n",
    "countVowels(s)"
   ]
  },
  {
   "cell_type": "markdown",
   "metadata": {},
   "source": [
    "4. Count Words in String:You are given a string s consisting of multiple words. You need to count the total words in the string. Words are separated by a single space."
   ]
  },
  {
   "cell_type": "code",
   "execution_count": 4,
   "metadata": {},
   "outputs": [],
   "source": [
    "def countWords(s):\n",
    "    #code here\n",
    "    cnt=0\n",
    "    for i in s:\n",
    "        cnt=len(s.split())\n",
    "    return cnt "
   ]
  },
  {
   "cell_type": "markdown",
   "metadata": {},
   "source": [
    "5. Lowercase to Upercase : You are given a string s. You need to convert the case of lowercase letter to uppercase letters."
   ]
  },
  {
   "cell_type": "code",
   "execution_count": 9,
   "metadata": {},
   "outputs": [],
   "source": [
    "def caseConversion(s):\n",
    "    if s.islower():\n",
    "        res=s.upper()\n",
    "        return res\n",
    "    else:\n",
    "        return False"
   ]
  },
  {
   "cell_type": "markdown",
   "metadata": {},
   "source": [
    "6. Uppercase to Lowercase: You are given a string s. You need to convert the case of uppercase letters to lowercase letters."
   ]
  },
  {
   "cell_type": "code",
   "execution_count": 10,
   "metadata": {},
   "outputs": [],
   "source": [
    "def caseConversion(s):\n",
    "   #your code here\n",
    "    if s.isupper():\n",
    "        res=s.lower()\n",
    "        return res\n",
    "    else:\n",
    "        return False"
   ]
  },
  {
   "cell_type": "code",
   "execution_count": null,
   "metadata": {},
   "outputs": [],
   "source": []
  }
 ],
 "metadata": {
  "kernelspec": {
   "display_name": "Python 3",
   "language": "python",
   "name": "python3"
  },
  "language_info": {
   "codemirror_mode": {
    "name": "ipython",
    "version": 3
   },
   "file_extension": ".py",
   "mimetype": "text/x-python",
   "name": "python",
   "nbconvert_exporter": "python",
   "pygments_lexer": "ipython3",
   "version": "3.8.3"
  }
 },
 "nbformat": 4,
 "nbformat_minor": 4
}
