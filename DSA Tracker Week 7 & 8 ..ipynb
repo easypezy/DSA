{
 "cells": [
  {
   "cell_type": "markdown",
   "metadata": {},
   "source": [
    "# Circular Linked List"
   ]
  },
  {
   "cell_type": "code",
   "execution_count": 1,
   "metadata": {},
   "outputs": [],
   "source": [
    "class Node:\n",
    "    \n",
    "    def __init__(self,data):\n",
    "        self.data=data\n",
    "        self.next=None\n",
    "        \n",
    "head=Node(10)\n",
    "#head.next=head\n",
    "head.next=Node(20)\n",
    "head.next.next=Node(30)\n",
    "head.next.next.next=Node(40)\n",
    "head.next.next.next.next=Node(60)\n",
    "head.next.next.next.next.next=head"
   ]
  },
  {
   "cell_type": "markdown",
   "metadata": {},
   "source": [
    "Display Circular Linked List : Given a circular linked list of size n, you need to display the linked list. The tail of the linked list is connected to head."
   ]
  },
  {
   "cell_type": "code",
   "execution_count": 2,
   "metadata": {},
   "outputs": [],
   "source": [
    "def traverse(head):\n",
    "    if head==None:\n",
    "        return\n",
    "    else:\n",
    "        print(head.data,end=' ')\n",
    "        curr=head.next\n",
    "        while(curr!=head):\n",
    "            print(curr.data,end=' ')\n",
    "            curr=curr.next"
   ]
  },
  {
   "cell_type": "markdown",
   "metadata": {},
   "source": [
    "Length of Circular Linked List : Given a circular linked list of size n, you need to find the length of the list (total number of nodes). The tail of the linked list is connected to head."
   ]
  },
  {
   "cell_type": "code",
   "execution_count": 3,
   "metadata": {},
   "outputs": [],
   "source": [
    "def countidx(head):\n",
    "    if head==None:\n",
    "        print(0)\n",
    "    else:\n",
    "        cnt=1\n",
    "        temp=head.next\n",
    "        while(temp!=head):\n",
    "            temp=temp.next\n",
    "            cnt+=1\n",
    "        print('no of index: ',cnt)"
   ]
  },
  {
   "cell_type": "markdown",
   "metadata": {},
   "source": [
    "Check If Circular Linked List : Given a singly linked list, find if the linked list is circular or not. A linked list is called circular if it not NULL terminated and all nodes are connected in the form of a cycle. An empty linked list is considered as circular."
   ]
  },
  {
   "cell_type": "code",
   "execution_count": 4,
   "metadata": {},
   "outputs": [],
   "source": [
    "def isCircular(head):\n",
    "    # Code here\n",
    "    curr=head\n",
    "    if head==None:\n",
    "        return \n",
    "    elif head.next==head:\n",
    "        return True\n",
    "    else:\n",
    "        while(curr.next!=None and curr.next!=head):\n",
    "            curr=curr.next\n",
    "        if curr.next==head:\n",
    "            return True\n",
    "        else:\n",
    "            return False"
   ]
  },
  {
   "cell_type": "markdown",
   "metadata": {},
   "source": [
    " Circular Linked List Head Insert : Given a circular linked list of size N, you need to insert an element data before the head and make it the new head. The tail of the linked list is connected to head."
   ]
  },
  {
   "cell_type": "code",
   "execution_count": 5,
   "metadata": {},
   "outputs": [],
   "source": [
    "def insertInHead(head,x):\n",
    "    #code here\n",
    "    temp=Node(x)\n",
    "    if head==None:\n",
    "        temp.next=temp\n",
    "        return temp\n",
    "    else:\n",
    "        curr=head\n",
    "        while(curr.next!=head):\n",
    "            curr=curr.next\n",
    "        curr.next=temp\n",
    "        temp.next=head\n",
    "    return temp"
   ]
  },
  {
   "cell_type": "markdown",
   "metadata": {},
   "source": [
    "Circular Linked List Tail Insert : Given a circular linked list of size N, you need to insert an element data after the tail. The tail of the linked list is connected to head."
   ]
  },
  {
   "cell_type": "code",
   "execution_count": 6,
   "metadata": {},
   "outputs": [],
   "source": [
    "def insertInTail(head,x):\n",
    "    #code here\n",
    "    temp=Node(x)\n",
    "    if head==None:\n",
    "        temp.next=temp\n",
    "        return temp \n",
    "    else:\n",
    "        curr=head\n",
    "        while(curr.next!=head):\n",
    "            curr=curr.next\n",
    "        curr.next=temp\n",
    "        temp.next=head\n",
    "    return head"
   ]
  },
  {
   "cell_type": "markdown",
   "metadata": {},
   "source": [
    "##### Circular Linked List Insertion At Position :\n",
    "You are given a circular linked list of size N. You need to insert an element data just after the given position pos.\n",
    "The position of first element is 1. If the given position is greater than N, then don't insert anything as it is not possible.\n",
    "As the given linked list is circular, it means that the tail is connected to the head of the list."
   ]
  },
  {
   "cell_type": "code",
   "execution_count": 7,
   "metadata": {},
   "outputs": [],
   "source": [
    "def insertAtPosition(head,pos,data):\n",
    "    #code here\n",
    "    temp=Node(data)\n",
    "    cur=head\n",
    "    if head==None:\n",
    "        temp.next=temp\n",
    "        return temp \n",
    "    if pos==1:\n",
    "        temp.next=head.next\n",
    "        head.next=temp\n",
    "        return head \n",
    "    for i in range(pos-1):\n",
    "        cur=cur.next\n",
    "        if cur==head:\n",
    "            return head\n",
    "    temp.next=cur.next\n",
    "    cur.next=temp\n",
    "    return head"
   ]
  },
  {
   "cell_type": "markdown",
   "metadata": {},
   "source": [
    "Delete Tail of Circular Linked List : Given a circular linked list of size n, you have to delete the tail (last element) in the linked list. In a circular linked list, the tail is connect to the head using the next pointer."
   ]
  },
  {
   "cell_type": "code",
   "execution_count": 8,
   "metadata": {},
   "outputs": [],
   "source": [
    "def deleteTail(head):\n",
    "    #code here\n",
    "    if head==None:\n",
    "        return None\n",
    "    elif head.next==head:\n",
    "        return None\n",
    "    else:\n",
    "        cur=head\n",
    "        while(cur.next.next!=head):\n",
    "            cur=cur.next\n",
    "        cur.next=head\n",
    "        return cur.next"
   ]
  },
  {
   "cell_type": "markdown",
   "metadata": {},
   "source": [
    " Delete Head of Circular Linked List : Given a circular linked list of size n, you have to delete the head of the linked list and return the new head. In the circular linked list the tail of the list is connected to the head using the next pointer."
   ]
  },
  {
   "cell_type": "code",
   "execution_count": 9,
   "metadata": {},
   "outputs": [],
   "source": [
    "def deleteHead(head):\n",
    "    #code here\n",
    "    if head==None:\n",
    "        return None \n",
    "    elif head.next==head:\n",
    "        return None\n",
    "    else:\n",
    "        cur=head \n",
    "        while(cur.next!=head):\n",
    "            cur=cur.next\n",
    "        cur.next=head.next\n",
    "        return cur.next"
   ]
  },
  {
   "cell_type": "markdown",
   "metadata": {},
   "source": [
    "####  Circular Linked List Delete at Position:\n",
    "Given a linked list of size n, you have to delete the node at position pos of the linked list and return the new head. The position of initial node is 1.\n",
    "The tail of the circular linked list is connected to the head using next pointer."
   ]
  },
  {
   "cell_type": "code",
   "execution_count": 10,
   "metadata": {},
   "outputs": [],
   "source": [
    "def deleteAtPosition(head,pos):\n",
    "    #code here\n",
    "    if head==None:\n",
    "        return None\n",
    "    elif pos==1:\n",
    "        head.data=head.next.data\n",
    "        head.next=head.next.next\n",
    "        return head\n",
    "    else:\n",
    "        cur=head\n",
    "        for i in range(pos-2):\n",
    "            cur=cur.next\n",
    "        cur.next=cur.next.next\n",
    "        return head "
   ]
  },
  {
   "cell_type": "markdown",
   "metadata": {},
   "source": [
    "# Doubly Linked List "
   ]
  },
  {
   "cell_type": "code",
   "execution_count": 11,
   "metadata": {},
   "outputs": [],
   "source": [
    "class Node:\n",
    "    def __init__(self,k):\n",
    "        self.k=k\n",
    "        self.prev=None\n",
    "        self.next=None\n",
    "        \n",
    "head=Node(10)\n",
    "temp1=Node(20)\n",
    "temp2=Node(30)\n",
    "\n",
    "head.next=temp1\n",
    "temp1.prev=head\n",
    "\n",
    "temp1.next=temp2\n",
    "temp2.prev=temp1"
   ]
  },
  {
   "cell_type": "markdown",
   "metadata": {},
   "source": [
    "Display Doubly Linked List : Given a doubly linked list of n elements. The task is to display the linked list."
   ]
  },
  {
   "cell_type": "code",
   "execution_count": 12,
   "metadata": {},
   "outputs": [],
   "source": [
    "def traversedll(head):\n",
    "    while(head!=None):\n",
    "        print(head.k,end=' ')\n",
    "        head=head.next\n",
    "    print()"
   ]
  },
  {
   "cell_type": "markdown",
   "metadata": {},
   "source": [
    " Doubly Linked List Head Insert : Given a doubly linked list of size n, you need to insert an element data before the head and make it the new head."
   ]
  },
  {
   "cell_type": "code",
   "execution_count": 13,
   "metadata": {},
   "outputs": [],
   "source": [
    "def insertInhead(head,data):\n",
    "    #code here\n",
    "    data=Node(data)\n",
    "    if head==None:\n",
    "        return data\n",
    "    else:\n",
    "        head.prev=data\n",
    "        data.next=head\n",
    "    return data"
   ]
  },
  {
   "cell_type": "markdown",
   "metadata": {},
   "source": [
    "Doubly Linked List Tail Insert : Given a doubly linked list of size n, you need to insert an element data after the tail."
   ]
  },
  {
   "cell_type": "code",
   "execution_count": 14,
   "metadata": {},
   "outputs": [],
   "source": [
    "def insertInTail(head,data):\n",
    "    #code here\n",
    "    data=Node(data)\n",
    "    curr=head\n",
    "    if head==None:\n",
    "        return data\n",
    "    if head.next==None:\n",
    "        head.next=data\n",
    "        data.prev=head\n",
    "        return head\n",
    "    else:\n",
    "        while(curr.next!=None):\n",
    "            curr=curr.next\n",
    "        curr.next=data\n",
    "        data.prev=curr\n",
    "    return head"
   ]
  },
  {
   "cell_type": "markdown",
   "metadata": {},
   "source": [
    "Doubly linked list Insertion at given position : Given a doubly-linked list, a position p, and an integer x. The task is to add a new node with value x at the position just after pth node in the doubly linked list."
   ]
  },
  {
   "cell_type": "code",
   "execution_count": 15,
   "metadata": {},
   "outputs": [],
   "source": [
    "def addNode(head, p, data):\n",
    "    curr=head\n",
    "    data=Node(data)\n",
    "    if head==None:\n",
    "        return data\n",
    "    for i in range(p):\n",
    "        curr=curr.next\n",
    "    data.prev=curr\n",
    "    data.next=curr.next\n",
    "    curr.next=data\n",
    "    return head"
   ]
  },
  {
   "cell_type": "markdown",
   "metadata": {},
   "source": [
    "Delete Tail of Doubly Linked List : Given a doubly linked list of size n, you have to delete the tail (last element) in the linked list."
   ]
  },
  {
   "cell_type": "code",
   "execution_count": 16,
   "metadata": {},
   "outputs": [],
   "source": [
    "def deleteTail(head):\n",
    "    #code here\n",
    "    curr=head\n",
    "    if head==None:\n",
    "        return None\n",
    "    if head.next==None:\n",
    "        return None\n",
    "    else:\n",
    "        while(curr.next.next!=None):\n",
    "            curr=curr.next\n",
    "        curr.next=None\n",
    "    return head"
   ]
  },
  {
   "cell_type": "markdown",
   "metadata": {},
   "source": [
    "Delete Head of Doubly Linked List : Given a doubly linked list of size n, you have to delete the head of the linked list and return the new head."
   ]
  },
  {
   "cell_type": "code",
   "execution_count": 17,
   "metadata": {},
   "outputs": [],
   "source": [
    "def deleteHead(head):\n",
    "    #code here\n",
    "    if head==None:\n",
    "        return None\n",
    "    if head.next==None:\n",
    "        return None\n",
    "    else:\n",
    "        head=head.next\n",
    "        head.prev=None\n",
    "    return head"
   ]
  },
  {
   "cell_type": "markdown",
   "metadata": {},
   "source": [
    "Delete node in Doubly Linked List : Given a doubly linked list and a position. The task is to delete a node from given position in a doubly linked list."
   ]
  },
  {
   "cell_type": "code",
   "execution_count": 18,
   "metadata": {},
   "outputs": [],
   "source": [
    "def deleteNode(head, x):\n",
    "    # Code here\n",
    "    curr=head\n",
    "    if head==None:\n",
    "        return None \n",
    "    if x==1:\n",
    "        head=head.next\n",
    "        head.prev=None\n",
    "        return head\n",
    "    for i in range(x-2):\n",
    "        curr=curr.next\n",
    "    curr.next=curr.next.next\n",
    "    return head"
   ]
  },
  {
   "cell_type": "markdown",
   "metadata": {},
   "source": [
    "Reverse a Doubly Linked List : Given a doubly linked list of n elements. The task is to reverse the doubly linked list."
   ]
  },
  {
   "cell_type": "code",
   "execution_count": 19,
   "metadata": {},
   "outputs": [],
   "source": [
    "def reverseDLL(head):\n",
    "    #return head after reversing\n",
    "    if head==None:\n",
    "        return None\n",
    "    curr=head\n",
    "    prev=None\n",
    "    if head.next==None:\n",
    "        return head\n",
    "    else:\n",
    "        while curr!=None:\n",
    "            prev=curr\n",
    "            curr.next,curr.prev=curr.prev,curr.next\n",
    "            curr=curr.prev\n",
    "    return prev"
   ]
  },
  {
   "cell_type": "markdown",
   "metadata": {},
   "source": [
    "#  Circular Doubly Linked LIst "
   ]
  },
  {
   "cell_type": "code",
   "execution_count": 20,
   "metadata": {},
   "outputs": [],
   "source": [
    "class Node:\n",
    "    def __init__(self,k):\n",
    "        self.k=k\n",
    "        self.prev=None\n",
    "        self.next=None\n",
    "        \n",
    "head=Node(10)\n",
    "temp1=Node(20)\n",
    "temp2=Node(30)\n",
    "\n",
    "head.next=temp1\n",
    "temp1.prev=head\n",
    "\n",
    "temp1.next=temp2\n",
    "temp2.prev=temp1\n",
    "temp2.next=head\n",
    "head.prev=temp2"
   ]
  },
  {
   "cell_type": "markdown",
   "metadata": {},
   "source": [
    " Display Circular Doubly Linked List :\n",
    " Given a circular doubly linked list, the task is to print the elements from head to tail, then from tail to head in two separate lines.\n",
    "The tail of a circular doubly linked list is connected to head via its next pointer, and the previous pointer of head is connected to the tail."
   ]
  },
  {
   "cell_type": "code",
   "execution_count": 21,
   "metadata": {},
   "outputs": [],
   "source": [
    "def displaylist(head):\n",
    "    cur=head\n",
    "    \n",
    "    while(cur.next!=head):\n",
    "        print(cur.k,end=' ')\n",
    "        cur=cur.next\n",
    "    print(cur.k)\n",
    "    print()\n",
    "    while(cur.prev!=head.prev):\n",
    "        print(cur.k,end=' ')\n",
    "        cur=cur.prev\n",
    "    print(cur.k)"
   ]
  },
  {
   "cell_type": "markdown",
   "metadata": {},
   "source": [
    "Is The Doubly Linked List Circular  : Given a doubly linked list, the task is to check if it is circular or not."
   ]
  },
  {
   "cell_type": "code",
   "execution_count": 22,
   "metadata": {},
   "outputs": [],
   "source": [
    "def isCircular(head):\n",
    "    #code here\n",
    "    cur=head\n",
    "    if head==None:\n",
    "        return \n",
    "    elif head.next==head:\n",
    "        return True \n",
    "    else:\n",
    "        while(cur.next!=None and cur.next!=head):\n",
    "            cur=cur.next\n",
    "        if cur.next==head and head.prev==cur:\n",
    "            return 1\n",
    "        else:\n",
    "            return 0"
   ]
  },
  {
   "cell_type": "markdown",
   "metadata": {},
   "source": [
    "Find Middle of Circular Doubly Linked List :Given a circular doubly linked list of odd size n, the task is to print the middle element. The tail of a circular doubly linked list is connected to head via its next pointer, and the previous pointer of head is connected to the tail."
   ]
  },
  {
   "cell_type": "code",
   "execution_count": 23,
   "metadata": {},
   "outputs": [],
   "source": [
    "def findMiddle(head):\n",
    "    #code here\n",
    "    idx=1\n",
    "    cur=head\n",
    "    while(cur.next!=head):\n",
    "        cur=cur.next\n",
    "        idx+=1\n",
    "    cnt=idx\n",
    "    if cnt%2==0:\n",
    "        cnt=idx//2\n",
    "    else:\n",
    "        cnt=(idx//2)+1\n",
    "    for i in range(cnt):\n",
    "        cur=cur.next\n",
    "    return cur.data"
   ]
  },
  {
   "cell_type": "markdown",
   "metadata": {},
   "source": [
    "Compare Circular Doubly Linked Lists : Given two circular doubly linked lists of sizes n1 and n2 respectively, the task is check if the corresponding elements of the lists are same or not. The tail of a circular doubly linked list is connected to head via its next pointer, and the previous pointer of head is connected to the tail."
   ]
  },
  {
   "cell_type": "code",
   "execution_count": 25,
   "metadata": {},
   "outputs": [],
   "source": [
    "def compareCLL(head1,head2):\n",
    "    #code here\n",
    "    \n",
    "    temp1=head1\n",
    "    temp2=head2\n",
    "    \n",
    "    if temp1.data!=temp2.data:\n",
    "        return 0 \n",
    "    temp1=temp1.next\n",
    "    temp2=temp2.next\n",
    "        \n",
    "    while(temp1!=head1 and temp2!=head2):\n",
    "        if(temp1.data!=temp2.data):\n",
    "            return 0\n",
    "        temp1=temp1.next\n",
    "        temp2=temp2.next\n",
    "    return 1\n",
    "        "
   ]
  }
 ],
 "metadata": {
  "kernelspec": {
   "display_name": "Python 3",
   "language": "python",
   "name": "python3"
  },
  "language_info": {
   "codemirror_mode": {
    "name": "ipython",
    "version": 3
   },
   "file_extension": ".py",
   "mimetype": "text/x-python",
   "name": "python",
   "nbconvert_exporter": "python",
   "pygments_lexer": "ipython3",
   "version": "3.8.3"
  }
 },
 "nbformat": 4,
 "nbformat_minor": 4
}
